{
 "cells": [
  {
   "cell_type": "code",
   "execution_count": 2,
   "id": "fce56490",
   "metadata": {},
   "outputs": [],
   "source": [
    "import numpy as np"
   ]
  },
  {
   "cell_type": "markdown",
   "id": "eb00a81b",
   "metadata": {},
   "source": [
    "## Задача №1"
   ]
  },
  {
   "cell_type": "markdown",
   "id": "3b8161f0",
   "metadata": {},
   "source": [
    "### Перший спосіб"
   ]
  },
  {
   "cell_type": "code",
   "execution_count": 40,
   "id": "3dca5932",
   "metadata": {},
   "outputs": [
    {
     "data": {
      "text/plain": [
       "array([[1.  , 1.  , 1.  ],\n",
       "       [0.05, 0.07, 0.  ],\n",
       "       [0.05, 0.  , 0.06]])"
      ]
     },
     "execution_count": 40,
     "metadata": {},
     "output_type": "execute_result"
    }
   ],
   "source": [
    "a = np.array([[1, 1, 1], [0.05, 0.07, 0], [0.05, 0, 0.06]])\n",
    "a"
   ]
  },
  {
   "cell_type": "code",
   "execution_count": 41,
   "id": "d654da15",
   "metadata": {},
   "outputs": [
    {
     "data": {
      "text/plain": [
       "array([50000,  2250,  1400])"
      ]
     },
     "execution_count": 41,
     "metadata": {},
     "output_type": "execute_result"
    }
   ],
   "source": [
    "b = np.array([50000, 2250, 1400])\n",
    "b"
   ]
  },
  {
   "cell_type": "code",
   "execution_count": 44,
   "id": "b7b48467",
   "metadata": {},
   "outputs": [
    {
     "data": {
      "text/plain": [
       "array([10000., 25000., 15000.])"
      ]
     },
     "execution_count": 44,
     "metadata": {},
     "output_type": "execute_result"
    }
   ],
   "source": [
    "result = np.linalg.solve(a, b)\n",
    "result"
   ]
  },
  {
   "cell_type": "markdown",
   "id": "8c7bc1b5",
   "metadata": {},
   "source": [
    "### Другий спосіб"
   ]
  },
  {
   "cell_type": "code",
   "execution_count": 9,
   "id": "75b5b897",
   "metadata": {},
   "outputs": [
    {
     "data": {
      "text/plain": [
       "array([[ -1.82608696,  26.08695652,  30.43478261],\n",
       "       [  1.30434783,  -4.34782609, -21.73913043],\n",
       "       [  1.52173913, -21.73913043,  -8.69565217]])"
      ]
     },
     "execution_count": 9,
     "metadata": {},
     "output_type": "execute_result"
    }
   ],
   "source": [
    "a_inv = np.linalg.inv(a)\n",
    "a_inv"
   ]
  },
  {
   "cell_type": "code",
   "execution_count": 11,
   "id": "7f9c6e64",
   "metadata": {},
   "outputs": [
    {
     "data": {
      "text/plain": [
       "array([10000., 25000., 15000.])"
      ]
     },
     "execution_count": 11,
     "metadata": {},
     "output_type": "execute_result"
    }
   ],
   "source": [
    "result2 = a_inv.dot(b)\n",
    "result2"
   ]
  },
  {
   "cell_type": "markdown",
   "id": "ffe48f6f",
   "metadata": {},
   "source": [
    "## Задача №2"
   ]
  },
  {
   "cell_type": "markdown",
   "id": "d583b7db",
   "metadata": {},
   "source": [
    "### Перший спосіб"
   ]
  },
  {
   "cell_type": "code",
   "execution_count": 58,
   "id": "3d3305ba",
   "metadata": {},
   "outputs": [
    {
     "data": {
      "text/plain": [
       "array([[ 1,  1,  1],\n",
       "       [ 1, -1,  0],\n",
       "       [ 1,  0, -1]])"
      ]
     },
     "execution_count": 58,
     "metadata": {},
     "output_type": "execute_result"
    }
   ],
   "source": [
    "a = np.array([[1, 1, 1], [1, -1, 0], [1, 0, -1]])\n",
    "a"
   ]
  },
  {
   "cell_type": "code",
   "execution_count": 59,
   "id": "106e4bfa",
   "metadata": {},
   "outputs": [
    {
     "data": {
      "text/plain": [
       "array([1328, -120,  100])"
      ]
     },
     "execution_count": 59,
     "metadata": {},
     "output_type": "execute_result"
    }
   ],
   "source": [
    "b = np.array([1328, -120, 100])\n",
    "b"
   ]
  },
  {
   "cell_type": "code",
   "execution_count": 60,
   "id": "eea8898d",
   "metadata": {},
   "outputs": [
    {
     "data": {
      "text/plain": [
       "array([436., 556., 336.])"
      ]
     },
     "execution_count": 60,
     "metadata": {},
     "output_type": "execute_result"
    }
   ],
   "source": [
    "result = np.linalg.solve(a, b)\n",
    "result"
   ]
  },
  {
   "cell_type": "markdown",
   "id": "61ab4ac3",
   "metadata": {},
   "source": [
    "### Другий спосіб"
   ]
  },
  {
   "cell_type": "code",
   "execution_count": 61,
   "id": "74405dd5",
   "metadata": {},
   "outputs": [
    {
     "data": {
      "text/plain": [
       "array([[ 0.33333333,  0.33333333,  0.33333333],\n",
       "       [ 0.33333333, -0.66666667,  0.33333333],\n",
       "       [ 0.33333333,  0.33333333, -0.66666667]])"
      ]
     },
     "execution_count": 61,
     "metadata": {},
     "output_type": "execute_result"
    }
   ],
   "source": [
    "a_inv = np.linalg.inv(a)\n",
    "a_inv"
   ]
  },
  {
   "cell_type": "code",
   "execution_count": 62,
   "id": "e86c0664",
   "metadata": {},
   "outputs": [
    {
     "data": {
      "text/plain": [
       "array([436., 556., 336.])"
      ]
     },
     "execution_count": 62,
     "metadata": {},
     "output_type": "execute_result"
    }
   ],
   "source": [
    "result2 = a_inv.dot(b)\n",
    "result2"
   ]
  },
  {
   "cell_type": "markdown",
   "id": "588efd7e",
   "metadata": {},
   "source": [
    "## Задача №3"
   ]
  },
  {
   "cell_type": "markdown",
   "id": "b6a54873",
   "metadata": {},
   "source": [
    "### Перший спосіб"
   ]
  },
  {
   "cell_type": "code",
   "execution_count": 48,
   "id": "d91e126b",
   "metadata": {},
   "outputs": [
    {
     "data": {
      "text/plain": [
       "array([[3.        , 0.        , 3.        ],\n",
       "       [6.        , 0.25      , 0.        ],\n",
       "       [1.        , 0.33333333, 1.        ]])"
      ]
     },
     "execution_count": 48,
     "metadata": {},
     "output_type": "execute_result"
    }
   ],
   "source": [
    "a = np.array([[3, 0, 3], [6, 1/4, 0], [1, 1/3, 1]])\n",
    "a"
   ]
  },
  {
   "cell_type": "code",
   "execution_count": 49,
   "id": "af3808dc",
   "metadata": {},
   "outputs": [
    {
     "data": {
      "text/plain": [
       "array([1, 1, 1])"
      ]
     },
     "execution_count": 49,
     "metadata": {},
     "output_type": "execute_result"
    }
   ],
   "source": [
    "b = np.array([1, 1, 1])\n",
    "b"
   ]
  },
  {
   "cell_type": "code",
   "execution_count": 53,
   "id": "b249d755",
   "metadata": {},
   "outputs": [
    {
     "data": {
      "text/plain": [
       "array([0.08333333, 2.        , 0.25      ])"
      ]
     },
     "execution_count": 53,
     "metadata": {},
     "output_type": "execute_result"
    }
   ],
   "source": [
    "result = np.linalg.solve(a, b)\n",
    "result"
   ]
  },
  {
   "cell_type": "code",
   "execution_count": 54,
   "id": "07920f72",
   "metadata": {},
   "outputs": [
    {
     "data": {
      "text/plain": [
       "array([3.46410162, 0.70710678, 2.        ])"
      ]
     },
     "execution_count": 54,
     "metadata": {},
     "output_type": "execute_result"
    }
   ],
   "source": [
    "result_coef = (1/result)**0.5\n",
    "result_coef"
   ]
  },
  {
   "cell_type": "markdown",
   "id": "13501bcb",
   "metadata": {},
   "source": [
    "### Другий спосіб"
   ]
  },
  {
   "cell_type": "code",
   "execution_count": 55,
   "id": "37910c1b",
   "metadata": {},
   "outputs": [
    {
     "data": {
      "text/plain": [
       "array([[ 0.04166667,  0.16666667, -0.125     ],\n",
       "       [-1.        ,  0.        ,  3.        ],\n",
       "       [ 0.29166667, -0.16666667,  0.125     ]])"
      ]
     },
     "execution_count": 55,
     "metadata": {},
     "output_type": "execute_result"
    }
   ],
   "source": [
    "a_inv = np.linalg.inv(a)\n",
    "a_inv"
   ]
  },
  {
   "cell_type": "code",
   "execution_count": 56,
   "id": "fc97c790",
   "metadata": {},
   "outputs": [
    {
     "data": {
      "text/plain": [
       "array([0.08333333, 2.        , 0.25      ])"
      ]
     },
     "execution_count": 56,
     "metadata": {},
     "output_type": "execute_result"
    }
   ],
   "source": [
    "result2 = a_inv.dot(b)\n",
    "result2"
   ]
  },
  {
   "cell_type": "code",
   "execution_count": 57,
   "id": "5b5f7438",
   "metadata": {},
   "outputs": [
    {
     "data": {
      "text/plain": [
       "array([3.46410162, 0.70710678, 2.        ])"
      ]
     },
     "execution_count": 57,
     "metadata": {},
     "output_type": "execute_result"
    }
   ],
   "source": [
    "result2_coef = (1/result2)**0.5\n",
    "result2_coef"
   ]
  },
  {
   "cell_type": "markdown",
   "id": "b19eeba0",
   "metadata": {},
   "source": [
    "## Задача №4"
   ]
  },
  {
   "cell_type": "markdown",
   "id": "190e36b2",
   "metadata": {},
   "source": [
    "### Перший спосіб"
   ]
  },
  {
   "cell_type": "code",
   "execution_count": 63,
   "id": "aa7afe28",
   "metadata": {},
   "outputs": [
    {
     "data": {
      "text/plain": [
       "array([[ 1,  1,  1],\n",
       "       [ 9,  3,  1],\n",
       "       [ 1, -1,  1]])"
      ]
     },
     "execution_count": 63,
     "metadata": {},
     "output_type": "execute_result"
    }
   ],
   "source": [
    "a = np.array([[1, 1, 1], [9, 3, 1], [1, -1, 1]])\n",
    "a"
   ]
  },
  {
   "cell_type": "code",
   "execution_count": 65,
   "id": "e5385439",
   "metadata": {},
   "outputs": [
    {
     "data": {
      "text/plain": [
       "array([12, 54,  2])"
      ]
     },
     "execution_count": 65,
     "metadata": {},
     "output_type": "execute_result"
    }
   ],
   "source": [
    "b = np.array([12, 54, 2])\n",
    "b"
   ]
  },
  {
   "cell_type": "code",
   "execution_count": 67,
   "id": "28ec7c35",
   "metadata": {},
   "outputs": [
    {
     "data": {
      "text/plain": [
       "array([4., 5., 3.])"
      ]
     },
     "execution_count": 67,
     "metadata": {},
     "output_type": "execute_result"
    }
   ],
   "source": [
    "result = np.linalg.solve(a, b)\n",
    "result"
   ]
  },
  {
   "cell_type": "markdown",
   "id": "bc23d789",
   "metadata": {},
   "source": [
    "### Другий спосіб"
   ]
  },
  {
   "cell_type": "code",
   "execution_count": 68,
   "id": "3df7b56e",
   "metadata": {},
   "outputs": [
    {
     "data": {
      "text/plain": [
       "array([[-0.25 ,  0.125,  0.125],\n",
       "       [ 0.5  , -0.   , -0.5  ],\n",
       "       [ 0.75 , -0.125,  0.375]])"
      ]
     },
     "execution_count": 68,
     "metadata": {},
     "output_type": "execute_result"
    }
   ],
   "source": [
    "a_inv = np.linalg.inv(a)\n",
    "a_inv"
   ]
  },
  {
   "cell_type": "code",
   "execution_count": 69,
   "id": "5e9f9d85",
   "metadata": {},
   "outputs": [
    {
     "data": {
      "text/plain": [
       "array([4., 5., 3.])"
      ]
     },
     "execution_count": 69,
     "metadata": {},
     "output_type": "execute_result"
    }
   ],
   "source": [
    "result2 = a_inv.dot(b)\n",
    "result2"
   ]
  },
  {
   "cell_type": "markdown",
   "id": "113fa947",
   "metadata": {},
   "source": [
    "## Задача №5"
   ]
  },
  {
   "cell_type": "code",
   "execution_count": 71,
   "id": "659b385d",
   "metadata": {},
   "outputs": [],
   "source": [
    "import numpy as np"
   ]
  },
  {
   "cell_type": "code",
   "execution_count": 86,
   "id": "aea9eade",
   "metadata": {},
   "outputs": [],
   "source": [
    "def get_polynom(coords):\n",
    "    a = []\n",
    "    b = []\n",
    "    for x, y in coords:\n",
    "        b.append(y)\n",
    "        a_row = []\n",
    "        for i in range(len(coords)):\n",
    "            a_row.append(x ** i)\n",
    "        a.append(a_row)\n",
    "    return np.linalg.solve(a, b)"
   ]
  },
  {
   "cell_type": "code",
   "execution_count": 87,
   "id": "b71f047b",
   "metadata": {},
   "outputs": [
    {
     "data": {
      "text/plain": [
       "array([3., 5., 4.])"
      ]
     },
     "execution_count": 87,
     "metadata": {},
     "output_type": "execute_result"
    }
   ],
   "source": [
    "get_polynom([(1, 12), (3, 54), (-1, 2)])"
   ]
  }
 ],
 "metadata": {
  "kernelspec": {
   "display_name": "Python 3 (ipykernel)",
   "language": "python",
   "name": "python3"
  },
  "language_info": {
   "codemirror_mode": {
    "name": "ipython",
    "version": 3
   },
   "file_extension": ".py",
   "mimetype": "text/x-python",
   "name": "python",
   "nbconvert_exporter": "python",
   "pygments_lexer": "ipython3",
   "version": "3.9.13"
  }
 },
 "nbformat": 4,
 "nbformat_minor": 5
}
